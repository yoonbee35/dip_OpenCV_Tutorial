{
 "cells": [
  {
   "cell_type": "markdown",
   "metadata": {},
   "source": [
    "<h2><b>빈 공간을 만들어 도형 그리기 (원, 사각형, 직선 등)"
   ]
  },
  {
   "cell_type": "code",
   "execution_count": 16,
   "metadata": {},
   "outputs": [
    {
     "data": {
      "text/plain": [
       "<matplotlib.image.AxesImage at 0x197ec8d3288>"
      ]
     },
     "execution_count": 16,
     "metadata": {},
     "output_type": "execute_result"
    },
    {
     "data": {
      "image/png": "[encoded data removed]",
      "text/plain": [
       "<Figure size 432x288 with 1 Axes>"
      ]
     },
     "metadata": {
      "needs_background": "light"
     },
     "output_type": "display_data"
    }
   ],
   "source": [
    "import cv2\n",
    "import numpy as np\n",
    "from matplotlib import pyplot as plt\n",
    "\n",
    "#Draw Function\n",
    "img=np.zeros((512,512,3),np.uint8) #(512,512)크기의 빈 공간 만들기\n",
    "cv2.line(img,(0,0),(512,512),(0,0,255),5)\n",
    "\n",
    "plt.imshow(img)"
   ]
  },
  {
   "cell_type": "code",
   "execution_count": 17,
   "metadata": {},
   "outputs": [
    {
     "data": {
      "text/plain": [
       "<matplotlib.image.AxesImage at 0x197ec91efc8>"
      ]
     },
     "execution_count": 17,
     "metadata": {},
     "output_type": "execute_result"
    },
    {
     "data": {
      "image/png": "[encoded data removed]",
      "text/plain": [
       "<Figure size 432x288 with 1 Axes>"
      ]
     },
     "metadata": {
      "needs_background": "light"
     },
     "output_type": "display_data"
    }
   ],
   "source": [
    "#draw rectangle\n",
    "cv2.rectangle(img,(512,0),(412,100),(0,255,0),5) #(src,좌측아래,우측위,색,두께)\n",
    "plt.imshow(img)"
   ]
  },
  {
   "cell_type": "code",
   "execution_count": 18,
   "metadata": {},
   "outputs": [
    {
     "data": {
      "text/plain": [
       "<matplotlib.image.AxesImage at 0x197eb0a5308>"
      ]
     },
     "execution_count": 18,
     "metadata": {},
     "output_type": "execute_result"
    },
    {
     "data": {
      "image/png": "[encoded data removed]",
      "text/plain": [
       "<Figure size 432x288 with 1 Axes>"
      ]
     },
     "metadata": {
      "needs_background": "light"
     },
     "output_type": "display_data"
    }
   ],
   "source": [
    "#draw Circle\n",
    "cv2.circle(img, (300,300),63,(255,255,255),-1) #(src,중심,반지름,색,두께)\n",
    "plt.imshow(img)"
   ]
  },
  {
   "cell_type": "markdown",
   "metadata": {},
   "source": [
    "<b><h3>+) #MouseEvent활용해서 도형 그리기"
   ]
  },
  {
   "cell_type": "code",
   "execution_count": 34,
   "metadata": {},
   "outputs": [
    {
     "name": "stdout",
     "output_type": "stream",
     "text": [
      "232 242\n",
      "342 319\n"
     ]
    }
   ],
   "source": [
    "import cv2\n",
    "import numpy as np\n",
    "\n",
    "# callback함수\n",
    "def draw_circle(event, x, y, flags, param):\n",
    "    if event == cv2.EVENT_LBUTTONDBLCLK:\n",
    "        cv2.circle(img,(x,y), 30,(255,255,0),-1)\n",
    "        print(x,y)\n",
    "\n",
    "# 빈 Image 생성\n",
    "img = np.zeros((512,512,3), np.uint8)\n",
    "cv2.namedWindow('image')\n",
    "cv2.setMouseCallback('image', draw_circle)\n",
    "\n",
    "while(1):\n",
    "    cv2.imshow('image', img)\n",
    "    if cv2.waitKey(1) & 0xFF == 27: #waitkey(0) -> mouse를 눌러도 반응이 없음\n",
    "        break\n",
    "\n",
    "cv2.destroyAllWindows()"
   ]
  },
  {
   "cell_type": "code",
   "execution_count": 28,
   "metadata": {},
   "outputs": [],
   "source": [
    "#누른상태에서 이동하여 rectangle, M을 누르면 circle 그리기\n",
    "import cv2\n",
    "import numpy as np \n",
    "\n",
    "drawing = False #Mouse가 클릭된 상태 확인용, True면 클릭된 상태\n",
    "mode = True # True이면 사각형, false면 원\n",
    "ix,iy = -1,-1\n",
    "\n",
    "\n",
    "# Mouse Callback함수\n",
    "def draw_circle(event, x,y, flags, param):\n",
    "\tglobal ix,iy, drawing, mode #함수 밖에서 선언한 변수는 함수 안에서 global로 설정해야함\n",
    "\n",
    "\tif event == cv2.EVENT_LBUTTONDOWN: #마우스를 누른 상태\n",
    "\t\tdrawing = True \n",
    "\t\tix, iy = x,y\n",
    "\telif event == cv2.EVENT_MOUSEMOVE: # 마우스 이동\n",
    "\t\tif drawing == True:            # 마우스를 누른 상태 일경우\n",
    "\t\t\tif mode == True:\n",
    "\t\t\t\tcv2.rectangle(img,(ix,iy),(x,y),(255,0,0),-1)\n",
    "\t\t\telse:\n",
    "\t\t\t\tcv2.circle(img,(x,y),5,(0,255,0),-1)\n",
    "\n",
    "\telif event == cv2.EVENT_LBUTTONUP:\n",
    "\t\tdrawing = False;             # 마우스를 때면 상태 변경\n",
    "\t\tif mode == True:\n",
    "\t\t\tcv2.rectangle(img,(ix,iy),(x,y),(255,0,0),-1)\n",
    "\t\telse:\n",
    "\t\t\tcv2.circle(img,(x,y),5,(0,255,0),-1)\n",
    "\n",
    "\n",
    "img = np.zeros((512,512,3), np.uint8)\n",
    "cv2.namedWindow('image')\n",
    "cv2.setMouseCallback('image',draw_circle)\n",
    "\n",
    "while True:\n",
    "\tcv2.imshow('image', img)\n",
    "\n",
    "\tk = cv2.waitKey(1) & 0xFF\n",
    "\n",
    "\tif k == ord('m'):    # 사각형, 원 Mode변경\n",
    "\t\tmode = not mode\n",
    "\telif k == 27:        # esc를 누르면 종료\n",
    "\t\tbreak\n",
    "\n",
    "cv2.destroyAllWindows()\n"
   ]
  },
  {
   "cell_type": "code",
   "execution_count": null,
   "metadata": {},
   "outputs": [],
   "source": []
  }
 ],
 "metadata": {
  "kernelspec": {
   "display_name": "Python 3",
   "language": "python",
   "name": "python3"
  },
  "language_info": {
   "codemirror_mode": {
    "name": "ipython",
    "version": 3
   },
   "file_extension": ".py",
   "mimetype": "text/x-python",
   "name": "python",
   "nbconvert_exporter": "python",
   "pygments_lexer": "ipython3",
   "version": "3.7.4"
  }
 },
 "nbformat": 4,
 "nbformat_minor": 4
}
